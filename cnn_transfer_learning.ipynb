{
  "nbformat": 4,
  "nbformat_minor": 0,
  "metadata": {
    "colab": {
      "provenance": [],
      "gpuType": "T4",
      "authorship_tag": "ABX9TyM4x30QOlPtkb/RJXPpCIoa",
      "include_colab_link": true
    },
    "kernelspec": {
      "name": "python3",
      "display_name": "Python 3"
    },
    "language_info": {
      "name": "python"
    },
    "accelerator": "GPU"
  },
  "cells": [
    {
      "cell_type": "markdown",
      "metadata": {
        "id": "view-in-github",
        "colab_type": "text"
      },
      "source": [
        "<a href=\"https://colab.research.google.com/github/Shivam1603/machine-learning-concepts/blob/main/cnn_transfer_learning.ipynb\" target=\"_parent\"><img src=\"https://colab.research.google.com/assets/colab-badge.svg\" alt=\"Open In Colab\"/></a>"
      ]
    },
    {
      "cell_type": "code",
      "execution_count": 1,
      "metadata": {
        "id": "iyVH544bT5Uf"
      },
      "outputs": [],
      "source": [
        "# Step 1: Import necessary libraries\n",
        "import numpy as np\n",
        "from tensorflow.keras.applications import ResNet50\n",
        "from tensorflow.keras.models import Model\n",
        "from tensorflow.keras.layers import Dense, GlobalAveragePooling2D\n",
        "from tensorflow.keras.optimizers import Adam\n",
        "from tensorflow.keras.utils import to_categorical\n",
        "from sklearn.model_selection import train_test_split"
      ]
    },
    {
      "cell_type": "code",
      "source": [
        "# Step 2: Load and preprocess the data\n",
        "# Assuming you have your data in numpy arrays: X and y\n",
        "# X: array of shape (num_images, height, width, 3)\n",
        "# y: array of shape (num_images,), containing class indices\n",
        "\n",
        "# Example (replace this with actual data loading)\n",
        "num_classes = 10\n",
        "X = np.random.rand(1000, 224, 224, 3)  # Replace with actual image data\n",
        "y = np.random.randint(num_classes, size=(1000,))  # Replace with actual labels\n",
        "\n",
        "# Normalize the data\n",
        "X = X / 255.0\n",
        "\n",
        "# Convert labels to categorical one-hot encoding\n",
        "y = to_categorical(y, num_classes=num_classes)\n",
        "\n",
        "# Split the data into training and validation sets\n",
        "X_train, X_val, y_train, y_val = train_test_split(X, y, test_size=0.2, random_state=42)\n"
      ],
      "metadata": {
        "id": "dTDFdCUDT_k5"
      },
      "execution_count": 2,
      "outputs": []
    },
    {
      "cell_type": "code",
      "source": [
        "# Step 3: Load the pre-trained ResNet50 model\n",
        "base_model = ResNet50(weights='imagenet', include_top=False, input_shape=(224, 224, 3))"
      ],
      "metadata": {
        "colab": {
          "base_uri": "https://localhost:8080/"
        },
        "id": "1cOghPjPUGaT",
        "outputId": "7b3ec7c4-32ef-47e3-d720-a21b9fee24c4"
      },
      "execution_count": 3,
      "outputs": [
        {
          "output_type": "stream",
          "name": "stdout",
          "text": [
            "Downloading data from https://storage.googleapis.com/tensorflow/keras-applications/resnet/resnet50_weights_tf_dim_ordering_tf_kernels_notop.h5\n",
            "94765736/94765736 [==============================] - 3s 0us/step\n"
          ]
        }
      ]
    },
    {
      "cell_type": "code",
      "source": [
        "# Step 4: Freeze the layers of ResNet50\n",
        "for layer in base_model.layers:\n",
        "    layer.trainable = False"
      ],
      "metadata": {
        "id": "E7_LJ5whUMih"
      },
      "execution_count": 4,
      "outputs": []
    },
    {
      "cell_type": "code",
      "source": [
        "# Step 5: Add custom classification layers\n",
        "x = base_model.output\n",
        "x = GlobalAveragePooling2D()(x)\n",
        "x = Dense(1024, activation='relu')(x)  # Add a fully-connected layer\n",
        "predictions = Dense(num_classes, activation='softmax')(x)  # Adjust the number of classes\n",
        "\n",
        "model = Model(inputs=base_model.input, outputs=predictions)"
      ],
      "metadata": {
        "id": "ik3VWB5LUPlp"
      },
      "execution_count": 5,
      "outputs": []
    },
    {
      "cell_type": "code",
      "source": [
        "# Step 6: Compile the model\n",
        "model.compile(optimizer=Adam(learning_rate=0.001), loss='categorical_crossentropy', metrics=['accuracy'])"
      ],
      "metadata": {
        "id": "p5BrSTBdURf6"
      },
      "execution_count": 6,
      "outputs": []
    },
    {
      "cell_type": "code",
      "source": [
        "# Step 7: Train the model\n",
        "model.fit(\n",
        "    X_train, y_train,\n",
        "    epochs=10,\n",
        "    batch_size=32,\n",
        "    validation_data=(X_val, y_val)\n",
        ")"
      ],
      "metadata": {
        "colab": {
          "base_uri": "https://localhost:8080/"
        },
        "id": "9PxVyfIZUTLS",
        "outputId": "c3b59055-1651-49cb-ca67-0c9eef748d3b"
      },
      "execution_count": 7,
      "outputs": [
        {
          "output_type": "stream",
          "name": "stdout",
          "text": [
            "Epoch 1/10\n",
            "25/25 [==============================] - 16s 266ms/step - loss: 2.5508 - accuracy: 0.1088 - val_loss: 2.4081 - val_accuracy: 0.1150\n",
            "Epoch 2/10\n",
            "25/25 [==============================] - 3s 116ms/step - loss: 2.4407 - accuracy: 0.0988 - val_loss: 2.3963 - val_accuracy: 0.0750\n",
            "Epoch 3/10\n",
            "25/25 [==============================] - 3s 116ms/step - loss: 2.4669 - accuracy: 0.0925 - val_loss: 2.4594 - val_accuracy: 0.1150\n",
            "Epoch 4/10\n",
            "25/25 [==============================] - 3s 124ms/step - loss: 2.3884 - accuracy: 0.0875 - val_loss: 2.4274 - val_accuracy: 0.0900\n",
            "Epoch 5/10\n",
            "25/25 [==============================] - 3s 120ms/step - loss: 2.4176 - accuracy: 0.1225 - val_loss: 2.4270 - val_accuracy: 0.1150\n",
            "Epoch 6/10\n",
            "25/25 [==============================] - 3s 119ms/step - loss: 2.3825 - accuracy: 0.0838 - val_loss: 2.3388 - val_accuracy: 0.0750\n",
            "Epoch 7/10\n",
            "25/25 [==============================] - 3s 117ms/step - loss: 2.3641 - accuracy: 0.0875 - val_loss: 2.3273 - val_accuracy: 0.1150\n",
            "Epoch 8/10\n",
            "25/25 [==============================] - 3s 120ms/step - loss: 2.3414 - accuracy: 0.0925 - val_loss: 2.3615 - val_accuracy: 0.1100\n",
            "Epoch 9/10\n",
            "25/25 [==============================] - 3s 121ms/step - loss: 2.3478 - accuracy: 0.0800 - val_loss: 2.3076 - val_accuracy: 0.1150\n",
            "Epoch 10/10\n",
            "25/25 [==============================] - 3s 117ms/step - loss: 2.3200 - accuracy: 0.1013 - val_loss: 2.3164 - val_accuracy: 0.0950\n"
          ]
        },
        {
          "output_type": "execute_result",
          "data": {
            "text/plain": [
              "<keras.src.callbacks.History at 0x7b6088249c60>"
            ]
          },
          "metadata": {},
          "execution_count": 7
        }
      ]
    },
    {
      "cell_type": "code",
      "source": [],
      "metadata": {
        "id": "Uj1dmVG4UUBh"
      },
      "execution_count": null,
      "outputs": []
    }
  ]
}