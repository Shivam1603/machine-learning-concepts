{
  "nbformat": 4,
  "nbformat_minor": 0,
  "metadata": {
    "colab": {
      "provenance": []
    },
    "kernelspec": {
      "name": "python3",
      "display_name": "Python 3"
    },
    "language_info": {
      "name": "python"
    }
  },
  "cells": [
    {
      "cell_type": "code",
      "execution_count": 30,
      "metadata": {
        "id": "zGpTlcnjLOa2"
      },
      "outputs": [],
      "source": [
        "import numpy as np\n",
        "import matplotlib.pyplot as plt"
      ]
    },
    {
      "cell_type": "code",
      "source": [
        "x = np.array([1, 2, 3, 4, 5, 6])\n",
        "y = np.array([10, 20, 30, 40, 50, 60])"
      ],
      "metadata": {
        "id": "_gYgawfeOwWm"
      },
      "execution_count": 4,
      "outputs": []
    },
    {
      "cell_type": "code",
      "source": [
        "def batch_gradient_descent(epochs, x, y):\n",
        "  w = b = 0\n",
        "  learning_rate = 0.001\n",
        "  n = len(x)\n",
        "\n",
        "  cost_values = []\n",
        "  epoch_values = []\n",
        "\n",
        "  for i in range(epochs):\n",
        "    y_pred = w * x + b\n",
        "    w_grad = 2/n * sum((y_pred - y) * x)\n",
        "    b_grad = 2/n * sum(y_pred - y)\n",
        "\n",
        "    w = w - learning_rate * w_grad\n",
        "    b = b - learning_rate * b_grad\n",
        "\n",
        "    # calculate cost\n",
        "    cost = 1/n * sum([val * val for val in (y_pred - y)])\n",
        "\n",
        "    if(i % 10 == 0):\n",
        "      cost_values.append(cost)\n",
        "      epoch_values.append(i)\n",
        "\n",
        "  return w, b, cost_values, epoch_values\n"
      ],
      "metadata": {
        "id": "8s2bGIJaNZBV"
      },
      "execution_count": 24,
      "outputs": []
    },
    {
      "cell_type": "code",
      "source": [
        "w, b, cost_values, epoch_values = batch_gradient_descent(1000, x, y)"
      ],
      "metadata": {
        "id": "eIGvJvzLO366"
      },
      "execution_count": 25,
      "outputs": []
    },
    {
      "cell_type": "code",
      "source": [
        "# predict the value for x = 7\n",
        "print(w*7 + b)"
      ],
      "metadata": {
        "colab": {
          "base_uri": "https://localhost:8080/"
        },
        "id": "U1L9cE_-O9Yy",
        "outputId": "fa908637-14fb-4355-a6fc-88ae0dea9490"
      },
      "execution_count": 29,
      "outputs": [
        {
          "output_type": "stream",
          "name": "stdout",
          "text": [
            "69.02354165918783\n"
          ]
        }
      ]
    },
    {
      "cell_type": "code",
      "source": [
        "# plot the cost vs epoch graph\n",
        "plt.plot(epoch_values, cost_values)"
      ],
      "metadata": {
        "colab": {
          "base_uri": "https://localhost:8080/",
          "height": 447
        },
        "id": "wGE-6OicPQfj",
        "outputId": "8d83b30b-e07c-4979-846c-f82c5987fe83"
      },
      "execution_count": 31,
      "outputs": [
        {
          "output_type": "execute_result",
          "data": {
            "text/plain": [
              "[<matplotlib.lines.Line2D at 0x7bfae5c94ee0>]"
            ]
          },
          "metadata": {},
          "execution_count": 31
        },
        {
          "output_type": "display_data",
          "data": {
            "text/plain": [
              "<Figure size 640x480 with 1 Axes>"
            ],
            "image/png": "[encoded data removed]"
          },
          "metadata": {}
        }
      ]
    },
    {
      "cell_type": "code",
      "source": [],
      "metadata": {
        "id": "tQQlwE0iRhPT"
      },
      "execution_count": null,
      "outputs": []
    }
  ]
}