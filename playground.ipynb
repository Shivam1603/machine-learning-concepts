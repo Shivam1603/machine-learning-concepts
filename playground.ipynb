{
  "nbformat": 4,
  "nbformat_minor": 0,
  "metadata": {
    "colab": {
      "provenance": [],
      "gpuType": "T4",
      "authorship_tag": "ABX9TyPOGJ80ctQ3t5Vpog1KXNCP",
      "include_colab_link": true
    },
    "kernelspec": {
      "name": "python3",
      "display_name": "Python 3"
    },
    "language_info": {
      "name": "python"
    },
    "accelerator": "GPU"
  },
  "cells": [
    {
      "cell_type": "markdown",
      "metadata": {
        "id": "view-in-github",
        "colab_type": "text"
      },
      "source": [
        "<a href=\"https://colab.research.google.com/github/Shivam1603/machine-learning-concepts/blob/main/playground.ipynb\" target=\"_parent\"><img src=\"https://colab.research.google.com/assets/colab-badge.svg\" alt=\"Open In Colab\"/></a>"
      ]
    },
    {
      "cell_type": "code",
      "source": [
        "# Standard Stuff\n",
        "import numpy as np\n",
        "import matplotlib.pyplot as plt\n",
        "\n",
        "# Keras Magic\n",
        "from tensorflow.keras.datasets import mnist\n",
        "from tensorflow.keras.layers import Dense, Conv2D, Flatten, MaxPool2D\n",
        "from tensorflow.keras.models import Sequential\n",
        "from tensorflow.keras.utils import to_categorical\n",
        "from tensorflow.keras.preprocessing.image import smart_resize\n",
        "from tensorflow.keras.applications import ResNet50\n",
        "\n",
        "# sklearn BS\n",
        "from sklearn.datasets import load_breast_cancer\n",
        "from sklearn.model_selection import train_test_split, cross_val_score\n",
        "from sklearn.metrics import accuracy_score, f1_score\n",
        "\n",
        "# Import these standard models from sklearn\n",
        "from sklearn.linear_model import LogisticRegression\n",
        "from sklearn.tree import DecisionTreeClassifier\n",
        "from sklearn.svm import SVC\n",
        "from xgboost import XGBClassifier\n",
        "from sklearn.ensemble import RandomForestClassifier"
      ],
      "metadata": {
        "id": "3LAbSAbeWsLt"
      },
      "execution_count": 137,
      "outputs": []
    },
    {
      "cell_type": "markdown",
      "source": [
        "CNN basic"
      ],
      "metadata": {
        "id": "SzSuQuQ8E753"
      }
    },
    {
      "cell_type": "code",
      "source": [
        "(x_train, y_train), (x_test, y_test) = mnist.load_data()"
      ],
      "metadata": {
        "id": "7i4T4FvtFDsC"
      },
      "execution_count": 16,
      "outputs": []
    },
    {
      "cell_type": "code",
      "source": [
        "x_train = x_train/255\n",
        "x_test = x_test/255\n",
        "\n",
        "x_train = np.stack([x_train]*3, axis = -1)\n",
        "x_test = np.stack([x_test]*3, axis = -1)"
      ],
      "metadata": {
        "id": "LQlVH_9sGUSK"
      },
      "execution_count": 17,
      "outputs": []
    },
    {
      "cell_type": "code",
      "source": [
        "x_train.shape"
      ],
      "metadata": {
        "colab": {
          "base_uri": "https://localhost:8080/"
        },
        "id": "1TZDcW44HN_m",
        "outputId": "f67f6c20-951c-4b0a-c8b1-0855673e1251"
      },
      "execution_count": 18,
      "outputs": [
        {
          "output_type": "execute_result",
          "data": {
            "text/plain": [
              "(60000, 28, 28, 3)"
            ]
          },
          "metadata": {},
          "execution_count": 18
        }
      ]
    },
    {
      "cell_type": "code",
      "source": [
        "#build the model\n",
        "model = Sequential()\n",
        "model.add(Conv2D(32, 3, activation = 'relu'))\n",
        "model.add(MaxPool2D((2, 2)))\n",
        "model.add(Flatten())\n",
        "model.add(Dense(32, activation = 'relu'))\n",
        "model.add(Dense(10, activation = 'softmax'))"
      ],
      "metadata": {
        "id": "iusDwf28FJwC"
      },
      "execution_count": 21,
      "outputs": []
    },
    {
      "cell_type": "code",
      "source": [
        "model.compile(optimizer = 'adam', loss = 'categorical_crossentropy', metrics = ['accuracy'])"
      ],
      "metadata": {
        "id": "Xta-FOlDFf0a"
      },
      "execution_count": 22,
      "outputs": []
    },
    {
      "cell_type": "code",
      "source": [
        "model.fit(x_train, to_categorical(y_train), epochs = 10, validation_data = (x_test, to_categorical(y_test)))"
      ],
      "metadata": {
        "colab": {
          "base_uri": "https://localhost:8080/"
        },
        "id": "NBJEUzE7Fo_T",
        "outputId": "1b56c2c4-efae-4599-bc9f-412b29b14acb"
      },
      "execution_count": 23,
      "outputs": [
        {
          "output_type": "stream",
          "name": "stdout",
          "text": [
            "Epoch 1/10\n",
            "1875/1875 [==============================] - 11s 4ms/step - loss: 0.1974 - accuracy: 0.9420 - val_loss: 0.1097 - val_accuracy: 0.9682\n",
            "Epoch 2/10\n",
            "1875/1875 [==============================] - 6s 3ms/step - loss: 0.0701 - accuracy: 0.9786 - val_loss: 0.0662 - val_accuracy: 0.9781\n",
            "Epoch 3/10\n",
            "1875/1875 [==============================] - 7s 4ms/step - loss: 0.0481 - accuracy: 0.9846 - val_loss: 0.0543 - val_accuracy: 0.9833\n",
            "Epoch 4/10\n",
            "1875/1875 [==============================] - 6s 3ms/step - loss: 0.0355 - accuracy: 0.9892 - val_loss: 0.0634 - val_accuracy: 0.9824\n",
            "Epoch 5/10\n",
            "1875/1875 [==============================] - 7s 4ms/step - loss: 0.0289 - accuracy: 0.9908 - val_loss: 0.0573 - val_accuracy: 0.9832\n",
            "Epoch 6/10\n",
            "1875/1875 [==============================] - 6s 3ms/step - loss: 0.0216 - accuracy: 0.9928 - val_loss: 0.0552 - val_accuracy: 0.9831\n",
            "Epoch 7/10\n",
            "1875/1875 [==============================] - 7s 4ms/step - loss: 0.0174 - accuracy: 0.9941 - val_loss: 0.0587 - val_accuracy: 0.9848\n",
            "Epoch 8/10\n",
            "1875/1875 [==============================] - 6s 3ms/step - loss: 0.0139 - accuracy: 0.9953 - val_loss: 0.0638 - val_accuracy: 0.9835\n",
            "Epoch 9/10\n",
            "1875/1875 [==============================] - 7s 4ms/step - loss: 0.0105 - accuracy: 0.9963 - val_loss: 0.0607 - val_accuracy: 0.9852\n",
            "Epoch 10/10\n",
            "1875/1875 [==============================] - 6s 3ms/step - loss: 0.0099 - accuracy: 0.9965 - val_loss: 0.0705 - val_accuracy: 0.9848\n"
          ]
        },
        {
          "output_type": "execute_result",
          "data": {
            "text/plain": [
              "<keras.src.callbacks.History at 0x7f818c0956c0>"
            ]
          },
          "metadata": {},
          "execution_count": 23
        }
      ]
    },
    {
      "cell_type": "code",
      "source": [
        " np.argmax(model.predict(x_test[:1]))"
      ],
      "metadata": {
        "colab": {
          "base_uri": "https://localhost:8080/"
        },
        "id": "2dh9VNH9GQ0j",
        "outputId": "ff1d0d01-6125-49d4-d2e0-6b574ff0bc01"
      },
      "execution_count": 25,
      "outputs": [
        {
          "output_type": "stream",
          "name": "stdout",
          "text": [
            "1/1 [==============================] - 0s 25ms/step\n"
          ]
        },
        {
          "output_type": "execute_result",
          "data": {
            "text/plain": [
              "7"
            ]
          },
          "metadata": {},
          "execution_count": 25
        }
      ]
    },
    {
      "cell_type": "markdown",
      "source": [
        "CNN Transfer Learning"
      ],
      "metadata": {
        "id": "Zls_HDxWISyz"
      }
    },
    {
      "cell_type": "code",
      "source": [
        "# preprocess the input\n",
        "\n",
        "x_train = np.array([smart_resize(x, (32, 32)) for x in x_train])\n",
        "x_test = np.array([smart_resize(x, (32, 32)) for x in x_test])"
      ],
      "metadata": {
        "id": "UGfV7n1lIOlj"
      },
      "execution_count": 27,
      "outputs": []
    },
    {
      "cell_type": "code",
      "source": [
        "base_model = ResNet50(weights = 'imagenet', include_top = False, input_shape = (32, 32, 3))\n",
        "\n",
        "for layer in base_model.layers:\n",
        "  layer.trainable = False\n",
        "\n",
        "model = Sequential()\n",
        "model.add(base_model)\n",
        "model.add(Flatten())\n",
        "model.add(Dense(32, activation = 'relu'))\n",
        "model.add(Dense(10, activation = 'softmax'))"
      ],
      "metadata": {
        "id": "QyGa9bQZIvv6"
      },
      "execution_count": 33,
      "outputs": []
    },
    {
      "cell_type": "code",
      "source": [
        "model.compile(optimizer = 'adam', loss = 'categorical_crossentropy', metrics = ['accuracy'])"
      ],
      "metadata": {
        "id": "hCtTcrtYJhMj"
      },
      "execution_count": 34,
      "outputs": []
    },
    {
      "cell_type": "code",
      "source": [
        "model.fit(x_train, to_categorical(y_train), epochs = 10, validation_data = (x_test, to_categorical(y_test)))"
      ],
      "metadata": {
        "colab": {
          "base_uri": "https://localhost:8080/"
        },
        "id": "Nc1cQuAaJl7J",
        "outputId": "4c67f8ca-4390-4e6f-ac53-9e39251dd49b"
      },
      "execution_count": 35,
      "outputs": [
        {
          "output_type": "stream",
          "name": "stdout",
          "text": [
            "Epoch 1/10\n",
            "1875/1875 [==============================] - 29s 13ms/step - loss: 0.7988 - accuracy: 0.7579 - val_loss: 0.4270 - val_accuracy: 0.8739\n",
            "Epoch 2/10\n",
            "1875/1875 [==============================] - 24s 13ms/step - loss: 0.3911 - accuracy: 0.8810 - val_loss: 0.3067 - val_accuracy: 0.9049\n",
            "Epoch 3/10\n",
            "1875/1875 [==============================] - 24s 13ms/step - loss: 0.3237 - accuracy: 0.8996 - val_loss: 0.2950 - val_accuracy: 0.9059\n",
            "Epoch 4/10\n",
            "1875/1875 [==============================] - 24s 13ms/step - loss: 0.2893 - accuracy: 0.9097 - val_loss: 0.2411 - val_accuracy: 0.9262\n",
            "Epoch 5/10\n",
            "1875/1875 [==============================] - 24s 13ms/step - loss: 0.2692 - accuracy: 0.9158 - val_loss: 0.2293 - val_accuracy: 0.9295\n",
            "Epoch 6/10\n",
            "1875/1875 [==============================] - 23s 12ms/step - loss: 0.2541 - accuracy: 0.9189 - val_loss: 0.2123 - val_accuracy: 0.9345\n",
            "Epoch 7/10\n",
            "1875/1875 [==============================] - 21s 11ms/step - loss: 0.2421 - accuracy: 0.9236 - val_loss: 0.1930 - val_accuracy: 0.9404\n",
            "Epoch 8/10\n",
            "1875/1875 [==============================] - 25s 13ms/step - loss: 0.2307 - accuracy: 0.9278 - val_loss: 0.2134 - val_accuracy: 0.9300\n",
            "Epoch 9/10\n",
            "1875/1875 [==============================] - 23s 12ms/step - loss: 0.2208 - accuracy: 0.9299 - val_loss: 0.1781 - val_accuracy: 0.9430\n",
            "Epoch 10/10\n",
            "1875/1875 [==============================] - 26s 14ms/step - loss: 0.2161 - accuracy: 0.9319 - val_loss: 0.1761 - val_accuracy: 0.9444\n"
          ]
        },
        {
          "output_type": "execute_result",
          "data": {
            "text/plain": [
              "<keras.src.callbacks.History at 0x7f8199fcb370>"
            ]
          },
          "metadata": {},
          "execution_count": 35
        }
      ]
    },
    {
      "cell_type": "code",
      "source": [
        "x_train.shape"
      ],
      "metadata": {
        "colab": {
          "base_uri": "https://localhost:8080/"
        },
        "id": "Lx3oSz11KH8k",
        "outputId": "3dd5dbe3-7824-459b-fb23-e2d2774e6d6a"
      },
      "execution_count": 32,
      "outputs": [
        {
          "output_type": "execute_result",
          "data": {
            "text/plain": [
              "(60000, 32, 32, 3)"
            ]
          },
          "metadata": {},
          "execution_count": 32
        }
      ]
    },
    {
      "cell_type": "markdown",
      "source": [
        "Log Reg using Keras"
      ],
      "metadata": {
        "id": "LWJwlMCVLmrq"
      }
    },
    {
      "cell_type": "code",
      "source": [
        "data = load_breast_cancer()"
      ],
      "metadata": {
        "id": "xfRBSHiNLyu4"
      },
      "execution_count": 39,
      "outputs": []
    },
    {
      "cell_type": "code",
      "source": [
        "x, y = data.data, data.target\n",
        "\n",
        "x_train, x_test, y_train, y_test = train_test_split(x, y, test_size = 0.3, random_state = 42)"
      ],
      "metadata": {
        "id": "d7f_hfv7Lyst"
      },
      "execution_count": 41,
      "outputs": []
    },
    {
      "cell_type": "code",
      "source": [
        "lr_clf = Sequential([Dense(1, activation = 'sigmoid')])"
      ],
      "metadata": {
        "id": "_mloBgFgLyql"
      },
      "execution_count": 43,
      "outputs": []
    },
    {
      "cell_type": "code",
      "source": [
        "lr_clf.compile(optimizer = 'adam', loss = 'binary_crossentropy', metrics = ['accuracy'])"
      ],
      "metadata": {
        "id": "52kQ6blULyoK"
      },
      "execution_count": 47,
      "outputs": []
    },
    {
      "cell_type": "code",
      "source": [
        "history = lr_clf.fit(x_train, y_train, epochs = 50, validation_data = (x_test, y_test))"
      ],
      "metadata": {
        "colab": {
          "base_uri": "https://localhost:8080/"
        },
        "collapsed": true,
        "id": "o3Hg1Xw7Ma27",
        "outputId": "f56a325a-8c55-4f02-ddee-a680331ad5b9"
      },
      "execution_count": 48,
      "outputs": [
        {
          "output_type": "stream",
          "name": "stdout",
          "text": [
            "Epoch 1/50\n",
            "13/13 [==============================] - 1s 17ms/step - loss: 0.2062 - accuracy: 0.8970 - val_loss: 0.1140 - val_accuracy: 0.9591\n",
            "Epoch 2/50\n",
            "13/13 [==============================] - 0s 6ms/step - loss: 0.1787 - accuracy: 0.9221 - val_loss: 0.1019 - val_accuracy: 0.9591\n",
            "Epoch 3/50\n",
            "13/13 [==============================] - 0s 6ms/step - loss: 0.1563 - accuracy: 0.9347 - val_loss: 0.0912 - val_accuracy: 0.9766\n",
            "Epoch 4/50\n",
            "13/13 [==============================] - 0s 6ms/step - loss: 0.1535 - accuracy: 0.9372 - val_loss: 0.1013 - val_accuracy: 0.9591\n",
            "Epoch 5/50\n",
            "13/13 [==============================] - 0s 6ms/step - loss: 0.1554 - accuracy: 0.9372 - val_loss: 0.0934 - val_accuracy: 0.9708\n",
            "Epoch 6/50\n",
            "13/13 [==============================] - 0s 6ms/step - loss: 0.1636 - accuracy: 0.9271 - val_loss: 0.1021 - val_accuracy: 0.9708\n",
            "Epoch 7/50\n",
            "13/13 [==============================] - 0s 6ms/step - loss: 0.1438 - accuracy: 0.9347 - val_loss: 0.0957 - val_accuracy: 0.9649\n",
            "Epoch 8/50\n",
            "13/13 [==============================] - 0s 6ms/step - loss: 0.1488 - accuracy: 0.9397 - val_loss: 0.0898 - val_accuracy: 0.9766\n",
            "Epoch 9/50\n",
            "13/13 [==============================] - 0s 5ms/step - loss: 0.1434 - accuracy: 0.9397 - val_loss: 0.0896 - val_accuracy: 0.9708\n",
            "Epoch 10/50\n",
            "13/13 [==============================] - 0s 6ms/step - loss: 0.1495 - accuracy: 0.9322 - val_loss: 0.0892 - val_accuracy: 0.9766\n",
            "Epoch 11/50\n",
            "13/13 [==============================] - 0s 7ms/step - loss: 0.1482 - accuracy: 0.9221 - val_loss: 0.1132 - val_accuracy: 0.9591\n",
            "Epoch 12/50\n",
            "13/13 [==============================] - 0s 6ms/step - loss: 0.1558 - accuracy: 0.9322 - val_loss: 0.0945 - val_accuracy: 0.9649\n",
            "Epoch 13/50\n",
            "13/13 [==============================] - 0s 5ms/step - loss: 0.1469 - accuracy: 0.9372 - val_loss: 0.0890 - val_accuracy: 0.9708\n",
            "Epoch 14/50\n",
            "13/13 [==============================] - 0s 6ms/step - loss: 0.1541 - accuracy: 0.9322 - val_loss: 0.0895 - val_accuracy: 0.9708\n",
            "Epoch 15/50\n",
            "13/13 [==============================] - 0s 6ms/step - loss: 0.1438 - accuracy: 0.9372 - val_loss: 0.0966 - val_accuracy: 0.9766\n",
            "Epoch 16/50\n",
            "13/13 [==============================] - 0s 7ms/step - loss: 0.1404 - accuracy: 0.9422 - val_loss: 0.0998 - val_accuracy: 0.9591\n",
            "Epoch 17/50\n",
            "13/13 [==============================] - 0s 7ms/step - loss: 0.1560 - accuracy: 0.9347 - val_loss: 0.0892 - val_accuracy: 0.9708\n",
            "Epoch 18/50\n",
            "13/13 [==============================] - 0s 6ms/step - loss: 0.1534 - accuracy: 0.9347 - val_loss: 0.1061 - val_accuracy: 0.9708\n",
            "Epoch 19/50\n",
            "13/13 [==============================] - 0s 7ms/step - loss: 0.1509 - accuracy: 0.9347 - val_loss: 0.0876 - val_accuracy: 0.9708\n",
            "Epoch 20/50\n",
            "13/13 [==============================] - 0s 6ms/step - loss: 0.1465 - accuracy: 0.9271 - val_loss: 0.0965 - val_accuracy: 0.9766\n",
            "Epoch 21/50\n",
            "13/13 [==============================] - 0s 5ms/step - loss: 0.1498 - accuracy: 0.9271 - val_loss: 0.0952 - val_accuracy: 0.9766\n",
            "Epoch 22/50\n",
            "13/13 [==============================] - 0s 6ms/step - loss: 0.1546 - accuracy: 0.9296 - val_loss: 0.0897 - val_accuracy: 0.9708\n",
            "Epoch 23/50\n",
            "13/13 [==============================] - 0s 6ms/step - loss: 0.1445 - accuracy: 0.9397 - val_loss: 0.0885 - val_accuracy: 0.9766\n",
            "Epoch 24/50\n",
            "13/13 [==============================] - 0s 7ms/step - loss: 0.1455 - accuracy: 0.9397 - val_loss: 0.0913 - val_accuracy: 0.9708\n",
            "Epoch 25/50\n",
            "13/13 [==============================] - 0s 6ms/step - loss: 0.1438 - accuracy: 0.9397 - val_loss: 0.0896 - val_accuracy: 0.9708\n",
            "Epoch 26/50\n",
            "13/13 [==============================] - 0s 6ms/step - loss: 0.1463 - accuracy: 0.9296 - val_loss: 0.0887 - val_accuracy: 0.9708\n",
            "Epoch 27/50\n",
            "13/13 [==============================] - 0s 6ms/step - loss: 0.1475 - accuracy: 0.9347 - val_loss: 0.0883 - val_accuracy: 0.9766\n",
            "Epoch 28/50\n",
            "13/13 [==============================] - 0s 6ms/step - loss: 0.1384 - accuracy: 0.9397 - val_loss: 0.0869 - val_accuracy: 0.9708\n",
            "Epoch 29/50\n",
            "13/13 [==============================] - 0s 6ms/step - loss: 0.1492 - accuracy: 0.9322 - val_loss: 0.0881 - val_accuracy: 0.9708\n",
            "Epoch 30/50\n",
            "13/13 [==============================] - 0s 6ms/step - loss: 0.1462 - accuracy: 0.9447 - val_loss: 0.0897 - val_accuracy: 0.9591\n",
            "Epoch 31/50\n",
            "13/13 [==============================] - 0s 6ms/step - loss: 0.1478 - accuracy: 0.9397 - val_loss: 0.0878 - val_accuracy: 0.9708\n",
            "Epoch 32/50\n",
            "13/13 [==============================] - 0s 6ms/step - loss: 0.1474 - accuracy: 0.9372 - val_loss: 0.0929 - val_accuracy: 0.9591\n",
            "Epoch 33/50\n",
            "13/13 [==============================] - 0s 6ms/step - loss: 0.1449 - accuracy: 0.9322 - val_loss: 0.0858 - val_accuracy: 0.9708\n",
            "Epoch 34/50\n",
            "13/13 [==============================] - 0s 6ms/step - loss: 0.1468 - accuracy: 0.9347 - val_loss: 0.0912 - val_accuracy: 0.9591\n",
            "Epoch 35/50\n",
            "13/13 [==============================] - 0s 6ms/step - loss: 0.1525 - accuracy: 0.9246 - val_loss: 0.0890 - val_accuracy: 0.9766\n",
            "Epoch 36/50\n",
            "13/13 [==============================] - 0s 6ms/step - loss: 0.1418 - accuracy: 0.9397 - val_loss: 0.0902 - val_accuracy: 0.9708\n",
            "Epoch 37/50\n",
            "13/13 [==============================] - 0s 6ms/step - loss: 0.1457 - accuracy: 0.9422 - val_loss: 0.0891 - val_accuracy: 0.9591\n",
            "Epoch 38/50\n",
            "13/13 [==============================] - 0s 6ms/step - loss: 0.1579 - accuracy: 0.9372 - val_loss: 0.1274 - val_accuracy: 0.9415\n",
            "Epoch 39/50\n",
            "13/13 [==============================] - 0s 6ms/step - loss: 0.1508 - accuracy: 0.9347 - val_loss: 0.0841 - val_accuracy: 0.9708\n",
            "Epoch 40/50\n",
            "13/13 [==============================] - 0s 6ms/step - loss: 0.1380 - accuracy: 0.9322 - val_loss: 0.0944 - val_accuracy: 0.9766\n",
            "Epoch 41/50\n",
            "13/13 [==============================] - 0s 6ms/step - loss: 0.1393 - accuracy: 0.9447 - val_loss: 0.0917 - val_accuracy: 0.9591\n",
            "Epoch 42/50\n",
            "13/13 [==============================] - 0s 6ms/step - loss: 0.1423 - accuracy: 0.9322 - val_loss: 0.0965 - val_accuracy: 0.9591\n",
            "Epoch 43/50\n",
            "13/13 [==============================] - 0s 7ms/step - loss: 0.1541 - accuracy: 0.9322 - val_loss: 0.0847 - val_accuracy: 0.9708\n",
            "Epoch 44/50\n",
            "13/13 [==============================] - 0s 6ms/step - loss: 0.1434 - accuracy: 0.9322 - val_loss: 0.0841 - val_accuracy: 0.9708\n",
            "Epoch 45/50\n",
            "13/13 [==============================] - 0s 7ms/step - loss: 0.1517 - accuracy: 0.9372 - val_loss: 0.0839 - val_accuracy: 0.9708\n",
            "Epoch 46/50\n",
            "13/13 [==============================] - 0s 6ms/step - loss: 0.1467 - accuracy: 0.9322 - val_loss: 0.0882 - val_accuracy: 0.9766\n",
            "Epoch 47/50\n",
            "13/13 [==============================] - 0s 6ms/step - loss: 0.1368 - accuracy: 0.9322 - val_loss: 0.0895 - val_accuracy: 0.9766\n",
            "Epoch 48/50\n",
            "13/13 [==============================] - 0s 6ms/step - loss: 0.1393 - accuracy: 0.9472 - val_loss: 0.0838 - val_accuracy: 0.9708\n",
            "Epoch 49/50\n",
            "13/13 [==============================] - 0s 6ms/step - loss: 0.1361 - accuracy: 0.9422 - val_loss: 0.0853 - val_accuracy: 0.9708\n",
            "Epoch 50/50\n",
            "13/13 [==============================] - 0s 7ms/step - loss: 0.1374 - accuracy: 0.9422 - val_loss: 0.0945 - val_accuracy: 0.9591\n"
          ]
        }
      ]
    },
    {
      "cell_type": "code",
      "source": [
        "plt.plot(history.history['accuracy'])"
      ],
      "metadata": {
        "colab": {
          "base_uri": "https://localhost:8080/",
          "height": 447
        },
        "id": "osLCF25hMa0K",
        "outputId": "656c4b11-d536-4efb-ec51-86016ea3f39e"
      },
      "execution_count": 51,
      "outputs": [
        {
          "output_type": "execute_result",
          "data": {
            "text/plain": [
              "[<matplotlib.lines.Line2D at 0x7f818c1b4280>]"
            ]
          },
          "metadata": {},
          "execution_count": 51
        },
        {
          "output_type": "display_data",
          "data": {
            "text/plain": [
              "<Figure size 640x480 with 1 Axes>"
            ],
            "image/png": "[encoded data removed]"
          },
          "metadata": {}
        }
      ]
    },
    {
      "cell_type": "markdown",
      "source": [
        "Applying Multiple ML algos below:\n",
        "1. Logistic Regression\n",
        "2. Decision Trees\n",
        "3. SVM\n",
        "4. XGBoost\n",
        "5. RandomForestClassifier"
      ],
      "metadata": {
        "id": "o2i0eXYbLaNN"
      }
    },
    {
      "cell_type": "code",
      "source": [
        "def apply_algo(model, x_train, y_train, x_test):\n",
        "  model.fit(x_train, y_train)\n",
        "  return model.predict(x_test)"
      ],
      "metadata": {
        "id": "bN86mHgVN51y"
      },
      "execution_count": 53,
      "outputs": []
    },
    {
      "cell_type": "code",
      "source": [
        "for model in [LogisticRegression(), DecisionTreeClassifier(), SVC(), XGBClassifier(n_estimators = 100), RandomForestClassifier(n_estimators = 100)]:\n",
        "  y_pred = apply_algo(model, x_train, y_train, x_test)\n",
        "  print(str(model), accuracy_score(y_pred, y_test))"
      ],
      "metadata": {
        "colab": {
          "base_uri": "https://localhost:8080/"
        },
        "id": "dmSlK3RkOggZ",
        "outputId": "053d8e6e-6b08-4c1c-e5ab-d32949dc2583"
      },
      "execution_count": 59,
      "outputs": [
        {
          "output_type": "stream",
          "name": "stderr",
          "text": [
            "/usr/local/lib/python3.10/dist-packages/sklearn/linear_model/_logistic.py:458: ConvergenceWarning: lbfgs failed to converge (status=1):\n",
            "STOP: TOTAL NO. of ITERATIONS REACHED LIMIT.\n",
            "\n",
            "Increase the number of iterations (max_iter) or scale the data as shown in:\n",
            "    https://scikit-learn.org/stable/modules/preprocessing.html\n",
            "Please also refer to the documentation for alternative solver options:\n",
            "    https://scikit-learn.org/stable/modules/linear_model.html#logistic-regression\n",
            "  n_iter_i = _check_optimize_result(\n"
          ]
        },
        {
          "output_type": "stream",
          "name": "stdout",
          "text": [
            "LogisticRegression() 0.9707602339181286\n",
            "DecisionTreeClassifier() 0.935672514619883\n",
            "SVC() 0.935672514619883\n",
            "XGBClassifier(base_score=None, booster=None, callbacks=None,\n",
            "              colsample_bylevel=None, colsample_bynode=None,\n",
            "              colsample_bytree=None, device=None, early_stopping_rounds=None,\n",
            "              enable_categorical=False, eval_metric=None, feature_types=None,\n",
            "              gamma=None, grow_policy=None, importance_type=None,\n",
            "              interaction_constraints=None, learning_rate=None, max_bin=None,\n",
            "              max_cat_threshold=None, max_cat_to_onehot=None,\n",
            "              max_delta_step=None, max_depth=None, max_leaves=None,\n",
            "              min_child_weight=None, missing=nan, monotone_constraints=None,\n",
            "              multi_strategy=None, n_estimators=100, n_jobs=None,\n",
            "              num_parallel_tree=None, random_state=None, ...) 0.9707602339181286\n",
            "RandomForestClassifier() 0.9707602339181286\n"
          ]
        }
      ]
    },
    {
      "cell_type": "markdown",
      "source": [
        "K-Fold Cross Validation:\n",
        "This is important to judge the performance of a model across different types of test sets. We divide the entire dataset into k folds and we do the following for each fold:\n",
        "1. Make that fold as the test set and the combined remaining folds as the training set\n",
        "2. Find the score of the test set once the model is trained on the training set\n",
        "\n",
        "Once done, we print out all the k scores, we can even take the mean to judge multiple models."
      ],
      "metadata": {
        "id": "EMsuDCaePbgJ"
      }
    },
    {
      "cell_type": "code",
      "source": [
        "def scorer(model, x, y):\n",
        "  y_pred = model.predict(x)\n",
        "  return f1_score(y_pred, y)"
      ],
      "metadata": {
        "id": "Nyoj7a9AQCh6"
      },
      "execution_count": 63,
      "outputs": []
    },
    {
      "cell_type": "code",
      "source": [
        "for model in [LogisticRegression(), DecisionTreeClassifier(), SVC(), XGBClassifier(n_estimators = 100), RandomForestClassifier(n_estimators = 100)]:\n",
        "  cv_score = cross_val_score(model, x, y, scoring = scorer, cv = 5)\n",
        "  print(str(model), np.mean(cv_score))"
      ],
      "metadata": {
        "colab": {
          "base_uri": "https://localhost:8080/"
        },
        "id": "vkDI_mFkQQ5C",
        "outputId": "07426eb7-e7ee-40b8-92e3-88808d9ff0f9"
      },
      "execution_count": 65,
      "outputs": [
        {
          "output_type": "stream",
          "name": "stderr",
          "text": [
            "/usr/local/lib/python3.10/dist-packages/sklearn/linear_model/_logistic.py:458: ConvergenceWarning: lbfgs failed to converge (status=1):\n",
            "STOP: TOTAL NO. of ITERATIONS REACHED LIMIT.\n",
            "\n",
            "Increase the number of iterations (max_iter) or scale the data as shown in:\n",
            "    https://scikit-learn.org/stable/modules/preprocessing.html\n",
            "Please also refer to the documentation for alternative solver options:\n",
            "    https://scikit-learn.org/stable/modules/linear_model.html#logistic-regression\n",
            "  n_iter_i = _check_optimize_result(\n",
            "/usr/local/lib/python3.10/dist-packages/sklearn/linear_model/_logistic.py:458: ConvergenceWarning: lbfgs failed to converge (status=1):\n",
            "STOP: TOTAL NO. of ITERATIONS REACHED LIMIT.\n",
            "\n",
            "Increase the number of iterations (max_iter) or scale the data as shown in:\n",
            "    https://scikit-learn.org/stable/modules/preprocessing.html\n",
            "Please also refer to the documentation for alternative solver options:\n",
            "    https://scikit-learn.org/stable/modules/linear_model.html#logistic-regression\n",
            "  n_iter_i = _check_optimize_result(\n",
            "/usr/local/lib/python3.10/dist-packages/sklearn/linear_model/_logistic.py:458: ConvergenceWarning: lbfgs failed to converge (status=1):\n",
            "STOP: TOTAL NO. of ITERATIONS REACHED LIMIT.\n",
            "\n",
            "Increase the number of iterations (max_iter) or scale the data as shown in:\n",
            "    https://scikit-learn.org/stable/modules/preprocessing.html\n",
            "Please also refer to the documentation for alternative solver options:\n",
            "    https://scikit-learn.org/stable/modules/linear_model.html#logistic-regression\n",
            "  n_iter_i = _check_optimize_result(\n",
            "/usr/local/lib/python3.10/dist-packages/sklearn/linear_model/_logistic.py:458: ConvergenceWarning: lbfgs failed to converge (status=1):\n",
            "STOP: TOTAL NO. of ITERATIONS REACHED LIMIT.\n",
            "\n",
            "Increase the number of iterations (max_iter) or scale the data as shown in:\n",
            "    https://scikit-learn.org/stable/modules/preprocessing.html\n",
            "Please also refer to the documentation for alternative solver options:\n",
            "    https://scikit-learn.org/stable/modules/linear_model.html#logistic-regression\n",
            "  n_iter_i = _check_optimize_result(\n",
            "/usr/local/lib/python3.10/dist-packages/sklearn/linear_model/_logistic.py:458: ConvergenceWarning: lbfgs failed to converge (status=1):\n",
            "STOP: TOTAL NO. of ITERATIONS REACHED LIMIT.\n",
            "\n",
            "Increase the number of iterations (max_iter) or scale the data as shown in:\n",
            "    https://scikit-learn.org/stable/modules/preprocessing.html\n",
            "Please also refer to the documentation for alternative solver options:\n",
            "    https://scikit-learn.org/stable/modules/linear_model.html#logistic-regression\n",
            "  n_iter_i = _check_optimize_result(\n"
          ]
        },
        {
          "output_type": "stream",
          "name": "stdout",
          "text": [
            "LogisticRegression() 0.9556914964057821\n",
            "DecisionTreeClassifier() 0.9305367589670777\n",
            "SVC() 0.9339140018560181\n",
            "XGBClassifier(base_score=None, booster=None, callbacks=None,\n",
            "              colsample_bylevel=None, colsample_bynode=None,\n",
            "              colsample_bytree=None, device=None, early_stopping_rounds=None,\n",
            "              enable_categorical=False, eval_metric=None, feature_types=None,\n",
            "              gamma=None, grow_policy=None, importance_type=None,\n",
            "              interaction_constraints=None, learning_rate=None, max_bin=None,\n",
            "              max_cat_threshold=None, max_cat_to_onehot=None,\n",
            "              max_delta_step=None, max_depth=None, max_leaves=None,\n",
            "              min_child_weight=None, missing=nan, monotone_constraints=None,\n",
            "              multi_strategy=None, n_estimators=100, n_jobs=None,\n",
            "              num_parallel_tree=None, random_state=None, ...) 0.9762943362967486\n",
            "RandomForestClassifier() 0.9735143669948183\n"
          ]
        }
      ]
    },
    {
      "cell_type": "markdown",
      "source": [
        "Linear Regression using Keras"
      ],
      "metadata": {
        "id": "JjgU8ZboRB1p"
      }
    },
    {
      "cell_type": "code",
      "source": [
        "from tensorflow.keras import optimizers\n",
        "\n",
        "x = []\n",
        "y = []\n",
        "\n",
        "for i in range(1000):\n",
        "  x.append([i])\n",
        "  y.append(10*i)\n",
        "\n",
        "x = np.array(x)\n",
        "y = np.array(y)\n",
        "\n",
        "\n",
        "lr = Sequential([Dense(1, activation = 'linear')])"
      ],
      "metadata": {
        "id": "qW1XcRlmQq1i"
      },
      "execution_count": 106,
      "outputs": []
    },
    {
      "cell_type": "code",
      "source": [
        "lr.compile(optimizer = 'adam', loss = 'mean_squared_error', metrics = ['mae'])"
      ],
      "metadata": {
        "id": "iE1qXBL3ROXp"
      },
      "execution_count": 109,
      "outputs": []
    },
    {
      "cell_type": "code",
      "source": [
        "lr.fit(x, y, epochs = 100)"
      ],
      "metadata": {
        "colab": {
          "base_uri": "https://localhost:8080/"
        },
        "collapsed": true,
        "id": "HPd3y-1ZRYOq",
        "outputId": "81c579e6-0635-49e3-b403-269a9a2f17b6"
      },
      "execution_count": 111,
      "outputs": [
        {
          "output_type": "stream",
          "name": "stdout",
          "text": [
            "Epoch 1/100\n",
            "32/32 [==============================] - 0s 4ms/step - loss: 0.0014 - mae: 0.0317\n",
            "Epoch 2/100\n",
            "32/32 [==============================] - 0s 4ms/step - loss: 0.0014 - mae: 0.0314\n",
            "Epoch 3/100\n",
            "32/32 [==============================] - 0s 4ms/step - loss: 0.0014 - mae: 0.0307\n",
            "Epoch 4/100\n",
            "32/32 [==============================] - 0s 4ms/step - loss: 0.0013 - mae: 0.0303\n",
            "Epoch 5/100\n",
            "32/32 [==============================] - 0s 6ms/step - loss: 0.0013 - mae: 0.0297\n",
            "Epoch 6/100\n",
            "32/32 [==============================] - 0s 6ms/step - loss: 0.0012 - mae: 0.0294\n",
            "Epoch 7/100\n",
            "32/32 [==============================] - 0s 6ms/step - loss: 0.0012 - mae: 0.0289\n",
            "Epoch 8/100\n",
            "32/32 [==============================] - 0s 5ms/step - loss: 0.0012 - mae: 0.0284\n",
            "Epoch 9/100\n",
            "32/32 [==============================] - 0s 5ms/step - loss: 0.0011 - mae: 0.0280\n",
            "Epoch 10/100\n",
            "32/32 [==============================] - 0s 4ms/step - loss: 0.0011 - mae: 0.0275\n",
            "Epoch 11/100\n",
            "32/32 [==============================] - 0s 4ms/step - loss: 0.0011 - mae: 0.0270\n",
            "Epoch 12/100\n",
            "32/32 [==============================] - 0s 5ms/step - loss: 0.0010 - mae: 0.0267\n",
            "Epoch 13/100\n",
            "32/32 [==============================] - 0s 8ms/step - loss: 9.8084e-04 - mae: 0.0261\n",
            "Epoch 14/100\n",
            "32/32 [==============================] - 0s 5ms/step - loss: 9.4456e-04 - mae: 0.0256\n",
            "Epoch 15/100\n",
            "32/32 [==============================] - 0s 5ms/step - loss: 9.3896e-04 - mae: 0.0256\n",
            "Epoch 16/100\n",
            "32/32 [==============================] - 0s 7ms/step - loss: 8.8530e-04 - mae: 0.0249\n",
            "Epoch 17/100\n",
            "32/32 [==============================] - 0s 6ms/step - loss: 8.4469e-04 - mae: 0.0242\n",
            "Epoch 18/100\n",
            "32/32 [==============================] - 0s 6ms/step - loss: 8.1597e-04 - mae: 0.0238\n",
            "Epoch 19/100\n",
            "32/32 [==============================] - 0s 6ms/step - loss: 7.8220e-04 - mae: 0.0233\n",
            "Epoch 20/100\n",
            "32/32 [==============================] - 0s 6ms/step - loss: 7.5074e-04 - mae: 0.0229\n",
            "Epoch 21/100\n",
            "32/32 [==============================] - 0s 5ms/step - loss: 7.2264e-04 - mae: 0.0224\n",
            "Epoch 22/100\n",
            "32/32 [==============================] - 0s 5ms/step - loss: 6.9817e-04 - mae: 0.0219\n",
            "Epoch 23/100\n",
            "32/32 [==============================] - 0s 6ms/step - loss: 6.6610e-04 - mae: 0.0215\n",
            "Epoch 24/100\n",
            "32/32 [==============================] - 0s 6ms/step - loss: 6.3936e-04 - mae: 0.0211\n",
            "Epoch 25/100\n",
            "32/32 [==============================] - 0s 4ms/step - loss: 6.1411e-04 - mae: 0.0207\n",
            "Epoch 26/100\n",
            "32/32 [==============================] - 0s 4ms/step - loss: 5.8505e-04 - mae: 0.0202\n",
            "Epoch 27/100\n",
            "32/32 [==============================] - 0s 3ms/step - loss: 5.5852e-04 - mae: 0.0197\n",
            "Epoch 28/100\n",
            "32/32 [==============================] - 0s 3ms/step - loss: 5.3945e-04 - mae: 0.0193\n",
            "Epoch 29/100\n",
            "32/32 [==============================] - 0s 3ms/step - loss: 5.1367e-04 - mae: 0.0189\n",
            "Epoch 30/100\n",
            "32/32 [==============================] - 0s 3ms/step - loss: 4.8567e-04 - mae: 0.0184\n",
            "Epoch 31/100\n",
            "32/32 [==============================] - 0s 3ms/step - loss: 4.6506e-04 - mae: 0.0180\n",
            "Epoch 32/100\n",
            "32/32 [==============================] - 0s 4ms/step - loss: 4.4667e-04 - mae: 0.0177\n",
            "Epoch 33/100\n",
            "32/32 [==============================] - 0s 3ms/step - loss: 4.2564e-04 - mae: 0.0172\n",
            "Epoch 34/100\n",
            "32/32 [==============================] - 0s 3ms/step - loss: 3.9822e-04 - mae: 0.0166\n",
            "Epoch 35/100\n",
            "32/32 [==============================] - 0s 3ms/step - loss: 3.8800e-04 - mae: 0.0165\n",
            "Epoch 36/100\n",
            "32/32 [==============================] - 0s 3ms/step - loss: 3.6497e-04 - mae: 0.0160\n",
            "Epoch 37/100\n",
            "32/32 [==============================] - 0s 2ms/step - loss: 3.4221e-04 - mae: 0.0154\n",
            "Epoch 38/100\n",
            "32/32 [==============================] - 0s 3ms/step - loss: 3.2453e-04 - mae: 0.0151\n",
            "Epoch 39/100\n",
            "32/32 [==============================] - 0s 2ms/step - loss: 3.0548e-04 - mae: 0.0146\n",
            "Epoch 40/100\n",
            "32/32 [==============================] - 0s 3ms/step - loss: 2.9126e-04 - mae: 0.0142\n",
            "Epoch 41/100\n",
            "32/32 [==============================] - 0s 3ms/step - loss: 2.7540e-04 - mae: 0.0138\n",
            "Epoch 42/100\n",
            "32/32 [==============================] - 0s 3ms/step - loss: 2.6006e-04 - mae: 0.0134\n",
            "Epoch 43/100\n",
            "32/32 [==============================] - 0s 2ms/step - loss: 2.4412e-04 - mae: 0.0130\n",
            "Epoch 44/100\n",
            "32/32 [==============================] - 0s 2ms/step - loss: 2.3100e-04 - mae: 0.0126\n",
            "Epoch 45/100\n",
            "32/32 [==============================] - 0s 3ms/step - loss: 2.1847e-04 - mae: 0.0123\n",
            "Epoch 46/100\n",
            "32/32 [==============================] - 0s 3ms/step - loss: 2.0561e-04 - mae: 0.0119\n",
            "Epoch 47/100\n",
            "32/32 [==============================] - 0s 3ms/step - loss: 1.9469e-04 - mae: 0.0116\n",
            "Epoch 48/100\n",
            "32/32 [==============================] - 0s 3ms/step - loss: 1.8010e-04 - mae: 0.0112\n",
            "Epoch 49/100\n",
            "32/32 [==============================] - 0s 3ms/step - loss: 1.6962e-04 - mae: 0.0108\n",
            "Epoch 50/100\n",
            "32/32 [==============================] - 0s 3ms/step - loss: 1.5898e-04 - mae: 0.0105\n",
            "Epoch 51/100\n",
            "32/32 [==============================] - 0s 2ms/step - loss: 1.4787e-04 - mae: 0.0101\n",
            "Epoch 52/100\n",
            "32/32 [==============================] - 0s 3ms/step - loss: 1.3876e-04 - mae: 0.0098\n",
            "Epoch 53/100\n",
            "32/32 [==============================] - 0s 3ms/step - loss: 1.3148e-04 - mae: 0.0096\n",
            "Epoch 54/100\n",
            "32/32 [==============================] - 0s 3ms/step - loss: 1.2160e-04 - mae: 0.0092\n",
            "Epoch 55/100\n",
            "32/32 [==============================] - 0s 3ms/step - loss: 1.1219e-04 - mae: 0.0088\n",
            "Epoch 56/100\n",
            "32/32 [==============================] - 0s 3ms/step - loss: 1.0499e-04 - mae: 0.0085\n",
            "Epoch 57/100\n",
            "32/32 [==============================] - 0s 2ms/step - loss: 9.9667e-05 - mae: 0.0084\n",
            "Epoch 58/100\n",
            "32/32 [==============================] - 0s 2ms/step - loss: 9.1100e-05 - mae: 0.0080\n",
            "Epoch 59/100\n",
            "32/32 [==============================] - 0s 3ms/step - loss: 8.3437e-05 - mae: 0.0076\n",
            "Epoch 60/100\n",
            "32/32 [==============================] - 0s 3ms/step - loss: 8.0623e-05 - mae: 0.0075\n",
            "Epoch 61/100\n",
            "32/32 [==============================] - 0s 3ms/step - loss: 7.4343e-05 - mae: 0.0072\n",
            "Epoch 62/100\n",
            "32/32 [==============================] - 0s 3ms/step - loss: 6.6165e-05 - mae: 0.0068\n",
            "Epoch 63/100\n",
            "32/32 [==============================] - 0s 3ms/step - loss: 6.0810e-05 - mae: 0.0065\n",
            "Epoch 64/100\n",
            "32/32 [==============================] - 0s 2ms/step - loss: 5.7009e-05 - mae: 0.0063\n",
            "Epoch 65/100\n",
            "32/32 [==============================] - 0s 3ms/step - loss: 5.3838e-05 - mae: 0.0061\n",
            "Epoch 66/100\n",
            "32/32 [==============================] - 0s 3ms/step - loss: 4.8907e-05 - mae: 0.0058\n",
            "Epoch 67/100\n",
            "32/32 [==============================] - 0s 3ms/step - loss: 4.3480e-05 - mae: 0.0055\n",
            "Epoch 68/100\n",
            "32/32 [==============================] - 0s 2ms/step - loss: 4.0594e-05 - mae: 0.0053\n",
            "Epoch 69/100\n",
            "32/32 [==============================] - 0s 2ms/step - loss: 3.7490e-05 - mae: 0.0051\n",
            "Epoch 70/100\n",
            "32/32 [==============================] - 0s 3ms/step - loss: 3.3005e-05 - mae: 0.0048\n",
            "Epoch 71/100\n",
            "32/32 [==============================] - 0s 3ms/step - loss: 3.1432e-05 - mae: 0.0047\n",
            "Epoch 72/100\n",
            "32/32 [==============================] - 0s 3ms/step - loss: 2.7644e-05 - mae: 0.0044\n",
            "Epoch 73/100\n",
            "32/32 [==============================] - 0s 3ms/step - loss: 2.5604e-05 - mae: 0.0042\n",
            "Epoch 74/100\n",
            "32/32 [==============================] - 0s 2ms/step - loss: 2.2786e-05 - mae: 0.0040\n",
            "Epoch 75/100\n",
            "32/32 [==============================] - 0s 3ms/step - loss: 2.2796e-05 - mae: 0.0040\n",
            "Epoch 76/100\n",
            "32/32 [==============================] - 0s 3ms/step - loss: 1.8810e-05 - mae: 0.0036\n",
            "Epoch 77/100\n",
            "32/32 [==============================] - 0s 3ms/step - loss: 1.8497e-05 - mae: 0.0036\n",
            "Epoch 78/100\n",
            "32/32 [==============================] - 0s 3ms/step - loss: 1.5756e-05 - mae: 0.0033\n",
            "Epoch 79/100\n",
            "32/32 [==============================] - 0s 3ms/step - loss: 1.3688e-05 - mae: 0.0031\n",
            "Epoch 80/100\n",
            "32/32 [==============================] - 0s 3ms/step - loss: 1.2684e-05 - mae: 0.0030\n",
            "Epoch 81/100\n",
            "32/32 [==============================] - 0s 2ms/step - loss: 1.1038e-05 - mae: 0.0028\n",
            "Epoch 82/100\n",
            "32/32 [==============================] - 0s 3ms/step - loss: 1.1069e-05 - mae: 0.0028\n",
            "Epoch 83/100\n",
            "32/32 [==============================] - 0s 3ms/step - loss: 8.9310e-06 - mae: 0.0025\n",
            "Epoch 84/100\n",
            "32/32 [==============================] - 0s 3ms/step - loss: 8.1508e-06 - mae: 0.0024\n",
            "Epoch 85/100\n",
            "32/32 [==============================] - 0s 3ms/step - loss: 7.6256e-06 - mae: 0.0023\n",
            "Epoch 86/100\n",
            "32/32 [==============================] - 0s 2ms/step - loss: 6.3919e-06 - mae: 0.0021\n",
            "Epoch 87/100\n",
            "32/32 [==============================] - 0s 3ms/step - loss: 5.5034e-06 - mae: 0.0019\n",
            "Epoch 88/100\n",
            "32/32 [==============================] - 0s 3ms/step - loss: 5.2222e-06 - mae: 0.0019\n",
            "Epoch 89/100\n",
            "32/32 [==============================] - 0s 3ms/step - loss: 4.6546e-06 - mae: 0.0018\n",
            "Epoch 90/100\n",
            "32/32 [==============================] - 0s 2ms/step - loss: 4.0404e-06 - mae: 0.0017\n",
            "Epoch 91/100\n",
            "32/32 [==============================] - 0s 2ms/step - loss: 3.5016e-06 - mae: 0.0015\n",
            "Epoch 92/100\n",
            "32/32 [==============================] - 0s 3ms/step - loss: 3.1822e-06 - mae: 0.0015\n",
            "Epoch 93/100\n",
            "32/32 [==============================] - 0s 2ms/step - loss: 3.1525e-06 - mae: 0.0015\n",
            "Epoch 94/100\n",
            "32/32 [==============================] - 0s 3ms/step - loss: 2.5799e-06 - mae: 0.0013\n",
            "Epoch 95/100\n",
            "32/32 [==============================] - 0s 2ms/step - loss: 2.0006e-06 - mae: 0.0012\n",
            "Epoch 96/100\n",
            "32/32 [==============================] - 0s 3ms/step - loss: 1.7142e-06 - mae: 0.0011\n",
            "Epoch 97/100\n",
            "32/32 [==============================] - 0s 2ms/step - loss: 1.6701e-06 - mae: 0.0011\n",
            "Epoch 98/100\n",
            "32/32 [==============================] - 0s 3ms/step - loss: 1.5519e-06 - mae: 0.0011\n",
            "Epoch 99/100\n",
            "32/32 [==============================] - 0s 3ms/step - loss: 1.1565e-06 - mae: 8.7352e-04\n",
            "Epoch 100/100\n",
            "32/32 [==============================] - 0s 3ms/step - loss: 9.9721e-07 - mae: 8.1973e-04\n"
          ]
        },
        {
          "output_type": "execute_result",
          "data": {
            "text/plain": [
              "<keras.src.callbacks.History at 0x7f810e2457e0>"
            ]
          },
          "metadata": {},
          "execution_count": 111
        }
      ]
    },
    {
      "cell_type": "code",
      "source": [
        "lr.predict([8.41])"
      ],
      "metadata": {
        "colab": {
          "base_uri": "https://localhost:8080/"
        },
        "id": "hXAEKVTRRgZ5",
        "outputId": "43ed10c7-f39d-42be-f0ab-a339aa9aa16f"
      },
      "execution_count": 136,
      "outputs": [
        {
          "output_type": "stream",
          "name": "stdout",
          "text": [
            "1/1 [==============================] - 0s 35ms/step\n"
          ]
        },
        {
          "output_type": "execute_result",
          "data": {
            "text/plain": [
              "array([[80.001816]], dtype=float32)"
            ]
          },
          "metadata": {},
          "execution_count": 136
        }
      ]
    },
    {
      "cell_type": "code",
      "source": [
        "w, b = lr.get_weights()"
      ],
      "metadata": {
        "collapsed": true,
        "id": "hpFjRkbcRyRh"
      },
      "execution_count": 121,
      "outputs": []
    },
    {
      "cell_type": "code",
      "source": [
        "8.4 * w[0][0] + b[0]"
      ],
      "metadata": {
        "colab": {
          "base_uri": "https://localhost:8080/"
        },
        "id": "HvUB39-wTkpA",
        "outputId": "d61ce355-48d5-495c-dbc0-21f5e7cc5ebb"
      },
      "execution_count": 127,
      "outputs": [
        {
          "output_type": "execute_result",
          "data": {
            "text/plain": [
              "84.00181550784036"
            ]
          },
          "metadata": {},
          "execution_count": 127
        }
      ]
    },
    {
      "cell_type": "code",
      "source": [
        "b[0]"
      ],
      "metadata": {
        "colab": {
          "base_uri": "https://localhost:8080/"
        },
        "id": "VyJyEbuEU_La",
        "outputId": "20ed57b2-277e-4e85-c267-a8bff4e69ad1"
      },
      "execution_count": 126,
      "outputs": [
        {
          "output_type": "execute_result",
          "data": {
            "text/plain": [
              "0.0018395404"
            ]
          },
          "metadata": {},
          "execution_count": 126
        }
      ]
    },
    {
      "cell_type": "markdown",
      "source": [
        "Gradient Descent For Linear Regression\n",
        "Cost = 1/m sum((ypred - y)**2) = 1/m [(wx + b - y)^2 + ...]\n",
        "\n",
        "w_grad = 1/m [2 * (wx + b - y) * x + ...] = 2/m sum((ypred - y) * x)\n",
        "\n",
        "Similarly, b_grad = 2/m sum((ypred - y))"
      ],
      "metadata": {
        "id": "rRiIkACsc12U"
      }
    },
    {
      "cell_type": "code",
      "source": [
        "def batch_gd(x, y, epochs = 100, learning_rate = 0.001):\n",
        "  m = len(y)\n",
        "  cost = []\n",
        "  # Initialize the params\n",
        "  w = b = 0\n",
        "\n",
        "  for _ in range(epochs):\n",
        "    # Forward Prop\n",
        "    y_pred = w * x + b\n",
        "\n",
        "    # Backward Prop\n",
        "    w_grad = 2/m * sum((y_pred - y) * x)\n",
        "    b_grad = 2/m * sum(y_pred - y)\n",
        "\n",
        "    # Update weights\n",
        "    w = w - learning_rate * w_grad\n",
        "    b = b - learning_rate * b_grad\n",
        "\n",
        "    cost_this_iteration = 1/m * sum([val * val for val in [y_pred - y]])\n",
        "    cost.append(cost_this_iteration)\n",
        "\n",
        "  return w, b, cost"
      ],
      "metadata": {
        "id": "fSZriY75VIPZ"
      },
      "execution_count": 142,
      "outputs": []
    },
    {
      "cell_type": "code",
      "source": [
        "x = np.array([1, 2, 3, 4, 5, 6])\n",
        "y = np.array([10, 20, 30, 40, 50, 60])"
      ],
      "metadata": {
        "id": "yuvNB7yzdCWA"
      },
      "execution_count": 144,
      "outputs": []
    },
    {
      "cell_type": "code",
      "source": [
        "w, b, cost = batch_gd(x, y, epochs = 100, learning_rate=0.005)"
      ],
      "metadata": {
        "id": "2Mwzp15NerA_"
      },
      "execution_count": 157,
      "outputs": []
    },
    {
      "cell_type": "code",
      "source": [
        "w"
      ],
      "metadata": {
        "colab": {
          "base_uri": "https://localhost:8080/"
        },
        "id": "54iI3ZPCfc24",
        "outputId": "3fe4c895-b3ae-4f81-ef1f-2f808603e969"
      },
      "execution_count": 158,
      "outputs": [
        {
          "output_type": "execute_result",
          "data": {
            "text/plain": [
              "9.568997723111323"
            ]
          },
          "metadata": {},
          "execution_count": 158
        }
      ]
    },
    {
      "cell_type": "code",
      "source": [
        "b"
      ],
      "metadata": {
        "colab": {
          "base_uri": "https://localhost:8080/"
        },
        "id": "wkJI5pvdfn-2",
        "outputId": "6fa70569-3840-4e5b-afcf-448e3fbd68bf"
      },
      "execution_count": 159,
      "outputs": [
        {
          "output_type": "execute_result",
          "data": {
            "text/plain": [
              "1.845205132604194"
            ]
          },
          "metadata": {},
          "execution_count": 159
        }
      ]
    },
    {
      "cell_type": "code",
      "source": [
        "plt.plot(cost)"
      ],
      "metadata": {
        "colab": {
          "base_uri": "https://localhost:8080/",
          "height": 447
        },
        "id": "RGlG3QM2fo0_",
        "outputId": "0f9203b0-249b-4bf2-efed-cff0974814ff"
      },
      "execution_count": 160,
      "outputs": [
        {
          "output_type": "execute_result",
          "data": {
            "text/plain": [
              "[<matplotlib.lines.Line2D at 0x7f818db0f880>]"
            ]
          },
          "metadata": {},
          "execution_count": 160
        },
        {
          "output_type": "display_data",
          "data": {
            "text/plain": [
              "<Figure size 640x480 with 1 Axes>"
            ],
            "image/png": "[encoded data removed]"
          },
          "metadata": {}
        }
      ]
    },
    {
      "cell_type": "markdown",
      "source": [
        "Logistic Regression Gradient Descent:\n",
        "\n",
        "Hyp Func, y_pred = g(w * x + b)\n",
        "\n",
        "where g(z) = 1/(1 + e^-z)\n",
        "\n",
        "Loss Function (J) = -1/m * sum([ylog(y_pred) + (1 - y)log(1 - ypred)])\n",
        "\n",
        "w_grad = -1/m []"
      ],
      "metadata": {
        "id": "8w9_qR4hgVtp"
      }
    },
    {
      "cell_type": "code",
      "source": [
        "import math\n",
        "\n",
        "def sigmoid(z):\n",
        "  ans = []\n",
        "  for el in z:\n",
        "    ans.append(1/(1 + math.exp(-el)))\n",
        "\n",
        "  return np.array(ans)\n",
        "\n",
        "def batch_gd(x, y, epochs = 100, learning_rate = 0.001):\n",
        "  m = len(y)\n",
        "  cost = []\n",
        "  # Initialize the params\n",
        "  w = b = 0\n",
        "\n",
        "  for _ in range(epochs):\n",
        "    # Forward Prop\n",
        "    y_pred = sigmoid(w * x + b)\n",
        "\n",
        "    # Backward Prop\n",
        "    w_grad = 1/m * sum((y_pred - y) * x)\n",
        "    b_grad = 1/m * sum(y_pred - y)\n",
        "\n",
        "    # Update weights\n",
        "    w = w - learning_rate * w_grad\n",
        "    b = b - learning_rate * b_grad\n",
        "\n",
        "    # log_y_pred = np.log(y_pred)\n",
        "\n",
        "    cost_this_iteration = -1/m * (np.dot(y, np.log(y_pred)) + np.dot(1-y, np.log(1-y_pred)))\n",
        "    cost.append(cost_this_iteration)\n",
        "\n",
        "  return w, b, cost"
      ],
      "metadata": {
        "id": "b9NfGs_OgEN_"
      },
      "execution_count": 167,
      "outputs": []
    },
    {
      "cell_type": "code",
      "source": [
        "x = np.array([1, 2, 3, 4, 5, 6])\n",
        "y = np.array([0, 0, 0, 1, 1, 1])\n",
        "\n",
        "x = []\n",
        "y = []\n",
        "\n",
        "for i in range(1000):\n",
        "  if(i%2 == 0):\n",
        "    y.append(0)\n",
        "  else:\n",
        "    y.append(1)\n",
        "  x.append(i)\n",
        "\n",
        "x, y = np.array(x), np.array(y)"
      ],
      "metadata": {
        "id": "1rrQvLK4kLkP"
      },
      "execution_count": 177,
      "outputs": []
    },
    {
      "cell_type": "code",
      "source": [
        "w, b, cost = batch_gd(x, y, epochs = 100, learning_rate=0.005)"
      ],
      "metadata": {
        "colab": {
          "base_uri": "https://localhost:8080/"
        },
        "id": "LYRrar6IkLkQ",
        "outputId": "647268f2-c38f-4e2b-a377-1dc409a59e32"
      },
      "execution_count": 178,
      "outputs": [
        {
          "output_type": "stream",
          "name": "stderr",
          "text": [
            "<ipython-input-167-8631c9e27770>:30: RuntimeWarning: divide by zero encountered in log\n",
            "  cost_this_iteration = -1/m * (np.dot(y, np.log(y_pred)) + np.dot(1-y, np.log(1-y_pred)))\n"
          ]
        }
      ]
    },
    {
      "cell_type": "code",
      "source": [
        "w"
      ],
      "metadata": {
        "colab": {
          "base_uri": "https://localhost:8080/"
        },
        "id": "7vmhHUAtkSOG",
        "outputId": "2b3363f0-fffe-45d9-f2f9-8347cdd85bdc"
      },
      "execution_count": 179,
      "outputs": [
        {
          "output_type": "execute_result",
          "data": {
            "text/plain": [
              "-0.3593604787403618"
            ]
          },
          "metadata": {},
          "execution_count": 179
        }
      ]
    },
    {
      "cell_type": "code",
      "source": [
        "b"
      ],
      "metadata": {
        "colab": {
          "base_uri": "https://localhost:8080/"
        },
        "id": "R_hKE351klxO",
        "outputId": "7d120d2a-eebc-4982-f5f2-baf9e89caed2"
      },
      "execution_count": 180,
      "outputs": [
        {
          "output_type": "execute_result",
          "data": {
            "text/plain": [
              "-0.0009329200449761396"
            ]
          },
          "metadata": {},
          "execution_count": 180
        }
      ]
    },
    {
      "cell_type": "code",
      "source": [
        "x_test = np.array([0, 1, 2, 3, 4, 5, 6, 7, 8])\n",
        "print(sigmoid(w * x_test + b))"
      ],
      "metadata": {
        "colab": {
          "base_uri": "https://localhost:8080/"
        },
        "id": "_yh-fXNIkmJu",
        "outputId": "b11aedc7-3f9d-43a2-dc76-53b604394729"
      },
      "execution_count": 181,
      "outputs": [
        {
          "output_type": "stream",
          "name": "stdout",
          "text": [
            "[0.49976677 0.41088854 0.32746921 0.25369259 0.19179714 0.14212697\n",
            " 0.10367001 0.07471256 0.05336206]\n"
          ]
        }
      ]
    },
    {
      "cell_type": "code",
      "source": [],
      "metadata": {
        "id": "epx1lCUyktxe"
      },
      "execution_count": null,
      "outputs": []
    }
  ]
}